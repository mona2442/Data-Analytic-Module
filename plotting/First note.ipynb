{
 "cells": [
  {
   "cell_type": "markdown",
   "id": "829e0624",
   "metadata": {},
   "source": [
    "# Introduction to Python:"
   ]
  },
  {
   "cell_type": "markdown",
   "id": "96a7d831",
   "metadata": {},
   "source": [
    "Learning objectives: \n",
    "1. Main features of Python language\n",
    "2. Build Python environment on a laptob"
   ]
  },
  {
   "cell_type": "markdown",
   "id": "5fc12d8b",
   "metadata": {},
   "source": [
    "Python is a programming language that we will use for this part of the course. This is the first year that we are introducing the data science basics in one of the undergraduate courses. We will not get into too many details of the programmimg language in this course, but the good thing about Python is being free and open source programming language with large community for support so you can check these resurces to implement your ideas. [Stack Overflow](https://stackoverflow.com/) .Python as a full programming language has a simple and easy to use synthaxes makes it dynamic and attractive to use, and it is commomnly used language for data analysis. \n",
    "\n",
    "If you have proviously worked with Matlab and now transitioning to Python, please check this nice resuorce: \n",
    " [guide available for transitioning from MATLAB to Python](https://www.enthought.com/wp-content/uploads/Enthought-MATLAB-to-Python-White-Paper.pdf) \n",
    " \n",
    "Another great resource from Johansson is also a great place to start: \n",
    "The [Introduction to Python Programming](https://nbviewer.jupyter.org/github/jrjohansson/scientific-python-lectures/blob/master/Lecture-1-Introduction-to-Python-Programming.ipynb)\n",
    "\n",
    "This reference manual describes the syntaxes and other useful information: [The Python Language Refrence](https://docs.python.org/3/reference/index.html)\n",
    "\n",
    "We will only have two lectures assigned to these part of the course, but we will try to introduce some important ideas and provide examples for using Python in data analytics."
   ]
  },
  {
   "cell_type": "markdown",
   "id": "ceaf1043",
   "metadata": {},
   "source": [
    "# Python\"Packages\":"
   ]
  },
  {
   "cell_type": "markdown",
   "id": "3a4ee082",
   "metadata": {},
   "source": [
    "Packages are building blocks in any programming language and as it is self explanatory, packages come with something inside them, which we call it modules. Basically, instead of you spending long time writing something from scrach, modules and packages are shortcuts that is already written and we need to import them to be able to use it. \n",
    "Please check this resource if you need more info on different packages: [The Python Standard Library](https://www.youtube.com/watch?v=a9iF9-rGi7o)\n",
    "\n",
    "An example of this packages are shown below:"
   ]
  },
  {
   "cell_type": "code",
   "execution_count": 4,
   "id": "cc171963",
   "metadata": {},
   "outputs": [
    {
     "name": "stdout",
     "output_type": "stream",
     "text": [
      "2.0\n",
      "2.0\n",
      "2.718281828459045\n"
     ]
    }
   ],
   "source": [
    "import math \n",
    "import math as m #Both of these lines importing the same package!\n",
    "\n",
    "from math import exp #You can also import functions directly from a package\n",
    "\n",
    "print(math.sqrt(4))\n",
    "print(m.sqrt(4))\n",
    "print(m.exp(1))"
   ]
  },
  {
   "cell_type": "markdown",
   "id": "a3a11a49",
   "metadata": {},
   "source": [
    "There are also some non-standard packages that have been created by users as unofficial add-ons. This one which is most widly used in almost every field of science and engineering is the \"numpy\" \"numerical python\" package which is an open source Python library. It has a number of numerical and linear algebra functions built in and it’s the universal standard for working with numerical data in Python. Please refer to this resources for more information on Numpy [NumPy: the absolute basics for beginners](https://numpy.org/doc/stable/user/absolute_beginners.html)\n",
    "[NumPy](https://numpy.org)\n",
    "\n",
    "It will almost always be imported using an \"alias\" of \"np\". \n",
    "\n",
    "An array is a central data structure of the NumPy library.\n",
    "\n",
    "We need to import Numoy in order to access to its functions."
   ]
  },
  {
   "cell_type": "code",
   "execution_count": 5,
   "id": "2d89a50f",
   "metadata": {},
   "outputs": [
    {
     "name": "stdout",
     "output_type": "stream",
     "text": [
      "C= [[1 0]\n",
      " [0 4]]\n",
      "D= [[1 2]\n",
      " [3 4]]\n"
     ]
    }
   ],
   "source": [
    "import numpy as np\n",
    "\n",
    "A = np.array ([[1,0],[0,1]])\n",
    "B = np.array ([[1,2],[3,4]])\n",
    "C = A*B\n",
    "D = A@B #you can also use np.dot to do the matrix/vector multipication\n",
    "\n",
    "print(\"C=\",C)\n",
    "print(\"D=\",D)"
   ]
  },
  {
   "cell_type": "markdown",
   "id": "b72475d5",
   "metadata": {},
   "source": [
    "You can use these useful functions to: \n",
    "\n",
    "1. np.zeros() = to generate an array of zeroes\n",
    "2. np.ones() = to generrate an array of zeroes\n",
    "3. np.empty() = to create an array whose initial content is random\n",
    "4. np.arange() = to create a range of elements or a range of evenly spaced intervals. To do this, you will specify the first number, last number, and the step size.\n",
    "5. np.sort() = to sort an array\n",
    "\n",
    "Let's see some examples:"
   ]
  },
  {
   "cell_type": "code",
   "execution_count": 6,
   "id": "21d5e993",
   "metadata": {},
   "outputs": [
    {
     "name": "stdout",
     "output_type": "stream",
     "text": [
      "[0. 0.]\n",
      "[0.  0.5 1.  1.5 2.  2.5 3.  3.5 4.  4.5]\n",
      "[ 1  2  5  8 10]\n"
     ]
    }
   ],
   "source": [
    "E = np.zeros(2)\n",
    "F = np.arange(0,5,0.5)\n",
    "arr = np.array([10, 5, 8, 2, 1])\n",
    "G = np.sort(arr)\n",
    "\n",
    "print(E)\n",
    "print(F)\n",
    "print(G)"
   ]
  },
  {
   "cell_type": "markdown",
   "id": "df935760",
   "metadata": {},
   "source": [
    "If you used MATLAB before, indexing arrays is similar to MATLAB with 3 major exceptions:\n",
    "- square brackets ('[]') are used instead of parentheses\n",
    "- indexing starts from 0 instead of 1\n",
    "- negative indexes are allowed (-1 is end)"
   ]
  },
  {
   "cell_type": "code",
   "execution_count": 7,
   "id": "448e0c02",
   "metadata": {},
   "outputs": [
    {
     "name": "stdout",
     "output_type": "stream",
     "text": [
      "[0 4]\n",
      "[1 0]\n"
     ]
    }
   ],
   "source": [
    "print(C[1])\n",
    "print(C[0])"
   ]
  },
  {
   "cell_type": "markdown",
   "id": "d2d9a957",
   "metadata": {},
   "source": [
    "Some Popular Python Packages for Data Science/Big Data/Machine Learning:\n",
    "\n",
    "- pandas (data analysis)\n",
    "- NumPy (multi-dimensional arrays)\n",
    "- SciPy (algorithms to use with numpy)\n",
    "- HDF5 (store & manipulate data)\n",
    "- Matplotlib (data visualization)\n",
    "- Jupyter (research collaboration)\n",
    "- scikit-learn (machine learning)\n",
    "- scikit-learn (machine learning algorithms)\n"
   ]
  },
  {
   "cell_type": "markdown",
   "id": "44a5975f",
   "metadata": {},
   "source": [
    "# Python\"Functions\":\n",
    "Functions are a reuseble, organized code to do a specific tasks. in Python packages, there are many built-in functions like \"print()\",\"exp()\", \"Sqrt()\", etc. \n",
    "You also can write your own fuction which is called, user-defined fuctions. \n",
    "\n",
    "This is how you define a function in Python: \n",
    "\n",
    "1. Function blocks begin with the keyword def followed by the function name and parentheses ( ( ) ).\n",
    "2. Any input parameters or arguments should be placed within these parentheses. You can also define parameters inside these parentheses.\n",
    "3. The code block within every function starts with a colon (:) and is indented.\n",
    "4. The statement return [expression] exits a function, optionally passing back an expression to the caller. A return statement with no arguments is the same as return None.\n",
    "\n",
    "Let's practice that:"
   ]
  },
  {
   "cell_type": "code",
   "execution_count": 8,
   "id": "bc164ee3",
   "metadata": {},
   "outputs": [
    {
     "name": "stdout",
     "output_type": "stream",
     "text": [
      "(27, 5.196152422706632)\n"
     ]
    }
   ],
   "source": [
    "def first_function():\n",
    "    x = 3 \n",
    "    y = x**3 \n",
    "    z = np.sqrt(y)\n",
    "    return(y, z)\n",
    "\n",
    "first_result = first_function()\n",
    "print(first_result)"
   ]
  },
  {
   "cell_type": "markdown",
   "id": "90ea27c5",
   "metadata": {},
   "source": [
    "# Python\"Classes, attributes, and methods\":\n",
    "\n",
    "- Attribute: A value associated with an object which is referenced by name using dotted expressions. For example, if an object o has an attribute a it would be referenced as o.a.\n",
    "- Class: A template for creating user-defined objects. Class definitions normally contain method definitions which operate on instances of the class.\n",
    "- Method: A function which is defined inside a class body. If called as an attribute of an instance of that class, the method will get the instance object as its first argument (which is usually called self). \n",
    "\n",
    "The mean and std methods are useful ways to quickly find the mean and standard deviation of a matrix:"
   ]
  },
  {
   "cell_type": "code",
   "execution_count": 9,
   "id": "f5f2d50d",
   "metadata": {},
   "outputs": [
    {
     "name": "stdout",
     "output_type": "stream",
     "text": [
      "5.2\n",
      "3.4292856398964493\n",
      "(2, 2)\n"
     ]
    }
   ],
   "source": [
    "arr_mean = np.mean(arr)\n",
    "print(arr_mean)\n",
    "print(arr.std())\n",
    "print(C.shape)# This gives you the info on how the matrix looks like!"
   ]
  },
  {
   "cell_type": "markdown",
   "id": "6b009e13",
   "metadata": {},
   "source": [
    "# How to read our data: \n",
    "For reading the csv files, there are some different ways. Here, we use \"Pandas\" package. Pandas is a Python library used for working with data sets.It has functions for analyzing, cleaning, exploring, and manipulating data. Pandas is usually imported under the pd alias."
   ]
  },
  {
   "cell_type": "code",
   "execution_count": 29,
   "id": "f63c76aa",
   "metadata": {},
   "outputs": [
    {
     "name": "stdout",
     "output_type": "stream",
     "text": [
      "(6569, 6)\n"
     ]
    },
    {
     "data": {
      "text/html": [
       "<div>\n",
       "<style scoped>\n",
       "    .dataframe tbody tr th:only-of-type {\n",
       "        vertical-align: middle;\n",
       "    }\n",
       "\n",
       "    .dataframe tbody tr th {\n",
       "        vertical-align: top;\n",
       "    }\n",
       "\n",
       "    .dataframe thead th {\n",
       "        text-align: right;\n",
       "    }\n",
       "</style>\n",
       "<table border=\"1\" class=\"dataframe\">\n",
       "  <thead>\n",
       "    <tr style=\"text-align: right;\">\n",
       "      <th></th>\n",
       "      <th>Date Time</th>\n",
       "      <th>Decimal Time [mins]</th>\n",
       "      <th>Time(mins)</th>\n",
       "      <th>Temperature Setpoint [°C]</th>\n",
       "      <th>Temperature Actual [°C]</th>\n",
       "      <th>Reactor3 Transmission [%]</th>\n",
       "    </tr>\n",
       "  </thead>\n",
       "  <tbody>\n",
       "    <tr>\n",
       "      <th>0</th>\n",
       "      <td>8/19/22 14:12</td>\n",
       "      <td>0:02:47</td>\n",
       "      <td>2.78</td>\n",
       "      <td>20.0</td>\n",
       "      <td>20.0</td>\n",
       "      <td>100</td>\n",
       "    </tr>\n",
       "    <tr>\n",
       "      <th>1</th>\n",
       "      <td>8/19/22 14:12</td>\n",
       "      <td>0:02:48</td>\n",
       "      <td>2.80</td>\n",
       "      <td>20.0</td>\n",
       "      <td>20.0</td>\n",
       "      <td>100</td>\n",
       "    </tr>\n",
       "    <tr>\n",
       "      <th>2</th>\n",
       "      <td>8/19/22 14:12</td>\n",
       "      <td>0:02:52</td>\n",
       "      <td>2.87</td>\n",
       "      <td>20.0</td>\n",
       "      <td>20.0</td>\n",
       "      <td>86</td>\n",
       "    </tr>\n",
       "    <tr>\n",
       "      <th>3</th>\n",
       "      <td>8/19/22 14:12</td>\n",
       "      <td>0:02:53</td>\n",
       "      <td>2.88</td>\n",
       "      <td>20.0</td>\n",
       "      <td>20.0</td>\n",
       "      <td>86</td>\n",
       "    </tr>\n",
       "    <tr>\n",
       "      <th>4</th>\n",
       "      <td>8/19/22 14:12</td>\n",
       "      <td>0:02:54</td>\n",
       "      <td>2.90</td>\n",
       "      <td>20.0</td>\n",
       "      <td>20.0</td>\n",
       "      <td>87</td>\n",
       "    </tr>\n",
       "    <tr>\n",
       "      <th>5</th>\n",
       "      <td>8/19/22 14:12</td>\n",
       "      <td>0:02:55</td>\n",
       "      <td>2.92</td>\n",
       "      <td>20.0</td>\n",
       "      <td>20.0</td>\n",
       "      <td>87</td>\n",
       "    </tr>\n",
       "    <tr>\n",
       "      <th>6</th>\n",
       "      <td>8/19/22 14:12</td>\n",
       "      <td>0:02:56</td>\n",
       "      <td>2.93</td>\n",
       "      <td>20.0</td>\n",
       "      <td>20.0</td>\n",
       "      <td>88</td>\n",
       "    </tr>\n",
       "    <tr>\n",
       "      <th>7</th>\n",
       "      <td>8/19/22 14:12</td>\n",
       "      <td>0:02:57</td>\n",
       "      <td>2.95</td>\n",
       "      <td>20.0</td>\n",
       "      <td>20.0</td>\n",
       "      <td>87</td>\n",
       "    </tr>\n",
       "    <tr>\n",
       "      <th>8</th>\n",
       "      <td>8/19/22 14:12</td>\n",
       "      <td>0:02:58</td>\n",
       "      <td>2.97</td>\n",
       "      <td>20.0</td>\n",
       "      <td>20.0</td>\n",
       "      <td>89</td>\n",
       "    </tr>\n",
       "    <tr>\n",
       "      <th>9</th>\n",
       "      <td>8/19/22 14:12</td>\n",
       "      <td>0:02:59</td>\n",
       "      <td>2.98</td>\n",
       "      <td>20.0</td>\n",
       "      <td>20.0</td>\n",
       "      <td>87</td>\n",
       "    </tr>\n",
       "  </tbody>\n",
       "</table>\n",
       "</div>"
      ],
      "text/plain": [
       "       Date Time Decimal Time [mins]  Time(mins)  Temperature Setpoint [°C]  \\\n",
       "0  8/19/22 14:12             0:02:47        2.78                       20.0   \n",
       "1  8/19/22 14:12             0:02:48        2.80                       20.0   \n",
       "2  8/19/22 14:12             0:02:52        2.87                       20.0   \n",
       "3  8/19/22 14:12             0:02:53        2.88                       20.0   \n",
       "4  8/19/22 14:12             0:02:54        2.90                       20.0   \n",
       "5  8/19/22 14:12             0:02:55        2.92                       20.0   \n",
       "6  8/19/22 14:12             0:02:56        2.93                       20.0   \n",
       "7  8/19/22 14:12             0:02:57        2.95                       20.0   \n",
       "8  8/19/22 14:12             0:02:58        2.97                       20.0   \n",
       "9  8/19/22 14:12             0:02:59        2.98                       20.0   \n",
       "\n",
       "   Temperature Actual [°C]  Reactor3 Transmission [%]  \n",
       "0                     20.0                        100  \n",
       "1                     20.0                        100  \n",
       "2                     20.0                         86  \n",
       "3                     20.0                         86  \n",
       "4                     20.0                         87  \n",
       "5                     20.0                         87  \n",
       "6                     20.0                         88  \n",
       "7                     20.0                         87  \n",
       "8                     20.0                         89  \n",
       "9                     20.0                         87  "
      ]
     },
     "execution_count": 29,
     "metadata": {},
     "output_type": "execute_result"
    }
   ],
   "source": [
    "import pandas as pd\n",
    "\n",
    "df = pd.read_csv(\"CC16.csv\")\n",
    "val = df.values\n",
    "print(val.shape) #This csv file has 6569 rows and 5 columns\n",
    "\n",
    "df.head(10)  #it prints the first 10 rows of the csv file!\n",
    "\n"
   ]
  },
  {
   "cell_type": "markdown",
   "id": "f98c53c8",
   "metadata": {},
   "source": [
    "# How to plot the data:\n",
    "\n",
    "Plotting data in Python is also similar to Matlab, and the main library, `matplotlib` is designed to work similarly. It is rather powerful, but can also be clunky. In particular, plots cannot be easily edited after they are generated, so all modifications must be done using code. There is a [gallery of Matplotlib examples](https://matplotlib.org/gallery.html), along with associated source code, that can be very useful if you want to create fancier plots.\n",
    "\n",
    "Typically we will make very simple plots in this course. An example of the `CC16.csv` dataset is provided below:"
   ]
  },
  {
   "cell_type": "code",
   "execution_count": 30,
   "id": "2f14b8b6",
   "metadata": {},
   "outputs": [],
   "source": [
    "%matplotlib inline\n",
    "#from matplotlib import pylab as plt # This is the long way to do it\n",
    "import pylab as plt #a much shorter but equivalent import"
   ]
  },
  {
   "cell_type": "code",
   "execution_count": 33,
   "id": "b64da06d",
   "metadata": {},
   "outputs": [
    {
     "name": "stdout",
     "output_type": "stream",
     "text": [
      "['0:02:47' '0:02:48' '0:02:52' ... '2:21:49' '2:21:51' '2:21:52']\n"
     ]
    }
   ],
   "source": [
    "print(val[:,1])\n",
    "x_all = val[:,3] #take the third column as independent variable\n",
    "y_all = val[:,5] #take the forth column as dependent variable"
   ]
  },
  {
   "cell_type": "code",
   "execution_count": 34,
   "id": "f88fb59b",
   "metadata": {},
   "outputs": [
    {
     "data": {
      "image/png": "[encoded data removed]",
      "text/plain": [
       "<Figure size 720x360 with 1 Axes>"
      ]
     },
     "metadata": {
      "needs_background": "light"
     },
     "output_type": "display_data"
    }
   ],
   "source": [
    "x_val = x_all[500:6000:100]\n",
    "y_val = y_all[500:6000:100]\n",
    "fig, ax = plt.subplots(figsize=(10, 5)) #create a new figure object (fig) with an associated axis object (ax)\n",
    "ax.plot(x_val,y_val,color='red',marker='o',linestyle = '--')\n",
    "ax.set_xlabel('temprature [C]')\n",
    "ax.set_ylabel('Transmission [%]');"
   ]
  },
  {
   "cell_type": "code",
   "execution_count": 28,
   "id": "78521cad",
   "metadata": {},
   "outputs": [
    {
     "name": "stdout",
     "output_type": "stream",
     "text": [
      "(55, 1)\n"
     ]
    }
   ],
   "source": [
    "print(x_val.shape)"
   ]
  },
  {
   "cell_type": "code",
   "execution_count": 35,
   "id": "44e2ed6a",
   "metadata": {},
   "outputs": [],
   "source": [
    "x_time = val[:,2] #take the second column as independent variable\n",
    "y_time = val[:,5] #take the forth column as dependent variable"
   ]
  },
  {
   "cell_type": "code",
   "execution_count": 53,
   "id": "37909507",
   "metadata": {},
   "outputs": [
    {
     "data": {
      "image/png": "[encoded data removed]",
      "text/plain": [
       "<Figure size 720x360 with 1 Axes>"
      ]
     },
     "metadata": {
      "needs_background": "light"
     },
     "output_type": "display_data"
    }
   ],
   "source": [
    "x_t = x_time[500:6000:100]\n",
    "y_t = y_time[500:6000:100]\n",
    "fig, ax = plt.subplots(figsize=(10, 5)) #create a new figure object (fig) with an associated axis object (ax)\n",
    "ax.plot(x_t,y_t,color='green',marker='d',linestyle = '--')\n",
    "ax.set_xlabel('Time [mins]')\n",
    "ax.set_ylabel('Transmission [%]');"
   ]
  },
  {
   "cell_type": "code",
   "execution_count": 59,
   "id": "312a2ca0",
   "metadata": {},
   "outputs": [
    {
     "data": {
      "image/png": "[encoded data removed]",
      "text/plain": [
       "<Figure size 864x288 with 2 Axes>"
      ]
     },
     "metadata": {
      "needs_background": "light"
     },
     "output_type": "display_data"
    }
   ],
   "source": [
    "fig, axes = plt.subplots(1, 2, figsize = (12, 4))\n",
    "\n",
    "x_t1 = x_time[0:3000:50]\n",
    "y_t1 = y_time[0:3000:50]\n",
    "axes[0].plot(x_t1,y_t1,color='green',marker='d',linestyle = '--')\n",
    "axes[0].set_xlabel('Time(mins)')\n",
    "axes[0].set_ylabel('Transmission(%)')\n",
    "axes[0].set_title('For First Half')\n",
    "\n",
    "x_t2 = x_time[3000:6000:50]\n",
    "y_t2 = y_time[3000:6000:50]\n",
    "axes[1].plot(x_t2,y_t2,color='blue',marker='o',linestyle = '--')\n",
    "axes[1].set_xlabel('Time(mins)')\n",
    "axes[1].set_ylabel('Transmission(%)')\n",
    "axes[1].set_title('For Second Half');"
   ]
  },
  {
   "cell_type": "code",
   "execution_count": 21,
   "id": "406ee054",
   "metadata": {},
   "outputs": [],
   "source": [
    "def gaussian_features(x, N , sigma = 25):\n",
    "    # x is a vector\n",
    "    # sigma is the standard deviation\n",
    "    x = x.reshape(-1) #ensure that x is a vector\n",
    "    xk_vec = np.linspace(min(x), max(x), N)\n",
    "    features = []\n",
    "    for xk in xk_vec:\n",
    "        features.append(np.exp(-((x - xk)**2/(2*sigma**2))))\n",
    "    return np.array(features).T"
   ]
  },
  {
   "cell_type": "code",
   "execution_count": 22,
   "id": "8c698cad",
   "metadata": {},
   "outputs": [],
   "source": [
    "import sklearn\n",
    "assert sklearn.__version__, \"scikit-learn not imported\""
   ]
  },
  {
   "cell_type": "code",
   "execution_count": 23,
   "id": "df4f13de",
   "metadata": {},
   "outputs": [
    {
     "ename": "TypeError",
     "evalue": "loop of ufunc does not support argument 0 of type float which has no callable exp method",
     "output_type": "error",
     "traceback": [
      "\u001b[0;31m---------------------------------------------------------------------------\u001b[0m",
      "\u001b[0;31mAttributeError\u001b[0m                            Traceback (most recent call last)",
      "\u001b[0;31mAttributeError\u001b[0m: 'float' object has no attribute 'exp'",
      "\nThe above exception was the direct cause of the following exception:\n",
      "\u001b[0;31mTypeError\u001b[0m                                 Traceback (most recent call last)",
      "\u001b[0;32m<ipython-input-23-f74d19b22427>\u001b[0m in \u001b[0;36m<module>\u001b[0;34m\u001b[0m\n\u001b[1;32m      3\u001b[0m \u001b[0mm\u001b[0m \u001b[0;34m=\u001b[0m \u001b[0;36m12\u001b[0m\u001b[0;34m\u001b[0m\u001b[0;34m\u001b[0m\u001b[0m\n\u001b[1;32m      4\u001b[0m \u001b[0;34m\u001b[0m\u001b[0m\n\u001b[0;32m----> 5\u001b[0;31m \u001b[0mX_m\u001b[0m \u001b[0;34m=\u001b[0m \u001b[0mgaussian_features\u001b[0m\u001b[0;34m(\u001b[0m\u001b[0mx_val\u001b[0m\u001b[0;34m,\u001b[0m\u001b[0mm\u001b[0m\u001b[0;34m,\u001b[0m\u001b[0msigma\u001b[0m\u001b[0;34m=\u001b[0m\u001b[0;36m25\u001b[0m\u001b[0;34m)\u001b[0m \u001b[0;31m#generate features\u001b[0m\u001b[0;34m\u001b[0m\u001b[0;34m\u001b[0m\u001b[0m\n\u001b[0m\u001b[1;32m      6\u001b[0m \u001b[0;34m\u001b[0m\u001b[0m\n\u001b[1;32m      7\u001b[0m \u001b[0mmodel\u001b[0m \u001b[0;34m=\u001b[0m \u001b[0mLinearRegression\u001b[0m\u001b[0;34m(\u001b[0m\u001b[0;34m)\u001b[0m \u001b[0;31m#create a linear regression model instance\u001b[0m\u001b[0;34m\u001b[0m\u001b[0;34m\u001b[0m\u001b[0m\n",
      "\u001b[0;32m<ipython-input-21-396bf074f606>\u001b[0m in \u001b[0;36mgaussian_features\u001b[0;34m(x, N, sigma)\u001b[0m\n\u001b[1;32m      6\u001b[0m     \u001b[0mfeatures\u001b[0m \u001b[0;34m=\u001b[0m \u001b[0;34m[\u001b[0m\u001b[0;34m]\u001b[0m\u001b[0;34m\u001b[0m\u001b[0;34m\u001b[0m\u001b[0m\n\u001b[1;32m      7\u001b[0m     \u001b[0;32mfor\u001b[0m \u001b[0mxk\u001b[0m \u001b[0;32min\u001b[0m \u001b[0mxk_vec\u001b[0m\u001b[0;34m:\u001b[0m\u001b[0;34m\u001b[0m\u001b[0;34m\u001b[0m\u001b[0m\n\u001b[0;32m----> 8\u001b[0;31m         \u001b[0mfeatures\u001b[0m\u001b[0;34m.\u001b[0m\u001b[0mappend\u001b[0m\u001b[0;34m(\u001b[0m\u001b[0mnp\u001b[0m\u001b[0;34m.\u001b[0m\u001b[0mexp\u001b[0m\u001b[0;34m(\u001b[0m\u001b[0;34m-\u001b[0m\u001b[0;34m(\u001b[0m\u001b[0;34m(\u001b[0m\u001b[0mx\u001b[0m \u001b[0;34m-\u001b[0m \u001b[0mxk\u001b[0m\u001b[0;34m)\u001b[0m\u001b[0;34m**\u001b[0m\u001b[0;36m2\u001b[0m\u001b[0;34m/\u001b[0m\u001b[0;34m(\u001b[0m\u001b[0;36m2\u001b[0m\u001b[0;34m*\u001b[0m\u001b[0msigma\u001b[0m\u001b[0;34m**\u001b[0m\u001b[0;36m2\u001b[0m\u001b[0;34m)\u001b[0m\u001b[0;34m)\u001b[0m\u001b[0;34m)\u001b[0m\u001b[0;34m)\u001b[0m\u001b[0;34m\u001b[0m\u001b[0;34m\u001b[0m\u001b[0m\n\u001b[0m\u001b[1;32m      9\u001b[0m     \u001b[0;32mreturn\u001b[0m \u001b[0mnp\u001b[0m\u001b[0;34m.\u001b[0m\u001b[0marray\u001b[0m\u001b[0;34m(\u001b[0m\u001b[0mfeatures\u001b[0m\u001b[0;34m)\u001b[0m\u001b[0;34m.\u001b[0m\u001b[0mT\u001b[0m\u001b[0;34m\u001b[0m\u001b[0;34m\u001b[0m\u001b[0m\n",
      "\u001b[0;31mTypeError\u001b[0m: loop of ufunc does not support argument 0 of type float which has no callable exp method"
     ]
    }
   ],
   "source": [
    "from sklearn.linear_model import LinearRegression\n",
    "\n",
    "m = 12\n",
    "\n",
    "X_m = gaussian_features(x_val,m,sigma=25) #generate features\n",
    "\n",
    "model = LinearRegression() #create a linear regression model instance\n",
    "\n",
    "model.fit(X_m, y_val) #fit the model (equivalent to the linear solve)\n",
    "\n",
    "yhat = model.predict(X_m) #create the model prediction (equivalent to the matrix multiplication)\n",
    "\n",
    "fig, ax = plt.subplots()\n",
    "ax.plot(x_val, y_val, 'o')"
   ]
  },
  {
   "cell_type": "code",
   "execution_count": null,
   "id": "1c14020d",
   "metadata": {},
   "outputs": [],
   "source": []
  },
  {
   "cell_type": "code",
   "execution_count": null,
   "id": "61f937c2",
   "metadata": {},
   "outputs": [],
   "source": []
  }
 ],
 "metadata": {
  "kernelspec": {
   "display_name": "Python 3",
   "language": "python",
   "name": "python3"
  },
  "language_info": {
   "codemirror_mode": {
    "name": "ipython",
    "version": 3
   },
   "file_extension": ".py",
   "mimetype": "text/x-python",
   "name": "python",
   "nbconvert_exporter": "python",
   "pygments_lexer": "ipython3",
   "version": "3.8.8"
  }
 },
 "nbformat": 4,
 "nbformat_minor": 5
}
